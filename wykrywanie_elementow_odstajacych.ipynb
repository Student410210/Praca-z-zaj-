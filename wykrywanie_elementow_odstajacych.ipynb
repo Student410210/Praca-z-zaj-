{
  "nbformat": 4,
  "nbformat_minor": 0,
  "metadata": {
    "colab": {
      "provenance": []
    },
    "kernelspec": {
      "name": "python3",
      "display_name": "Python 3"
    },
    "language_info": {
      "name": "python"
    }
  },
  "cells": [
    {
      "cell_type": "code",
      "execution_count": 1,
      "metadata": {
        "id": "emvVhRTthJDu"
      },
      "outputs": [],
      "source": [
        "import numpy as np\n",
        "import pandas as pd\n",
        "import matplotlib.pyplot as plt\n",
        "from scipy import stats"
      ]
    },
    {
      "cell_type": "markdown",
      "source": [
        "# **Elementy odstające (*ang. outliers*)**"
      ],
      "metadata": {
        "id": "3Vg4aqTLhcCL"
      }
    },
    {
      "cell_type": "markdown",
      "source": [
        "**Elementy odstające** to punkty danych znalazujące się w znacznej odległości od grupy innych punktów - byty wyróżniające się z tłumu.\n",
        "\n",
        "Problemy spowodowane outliersami:\n",
        "\n",
        "* Długi czas uczenia modelu predykcyjnego\n",
        "* Kiepska dokładność predykcji\n",
        "* Zwiększenie błędu wariancji\n",
        "* Zmniejszenie normalności rozkładu danych\n",
        "* Osłabienie mocy testów statystycznych"
      ],
      "metadata": {
        "id": "1E513Gxqhioj"
      }
    },
    {
      "cell_type": "markdown",
      "source": [
        "## Typy elementów odstających\n",
        "\n",
        "**1. OUTLIERSY JEDNOWYMIAROWE**\n",
        "\n",
        "  * Występują w rozkładach opisujących jedną zmienną\n",
        "  \n",
        "  * Przykład: wynagrodzenia pracowników w jednej firmie\n",
        "  \n",
        "  * Łatwo widoczne na histogramach i wykresach pudełkowych\n",
        "\n",
        "**2. OUTLIERSY WIELOWYMIAROWE**\n",
        "\n",
        " * Znajdują się w przestrzeniach n-wymiarowych\n",
        "\n",
        " * Przykład: dane klientów (wiek, dochód, wydatki)\n",
        "\n",
        " * Trudniejsze do wykrycia bez specjalnych metod"
      ],
      "metadata": {
        "id": "N9K_fYx0irVM"
      }
    },
    {
      "cell_type": "markdown",
      "source": [
        "# **Metody wykrywania elementów odstających**"
      ],
      "metadata": {
        "id": "pZFTlbwKkpY6"
      }
    },
    {
      "cell_type": "markdown",
      "source": [
        "### **Metoda 1**: Wykres pudełkowy\n",
        "\n",
        "\n",
        "* Tworzy podział punktów ze względu na kwartyle (Q1, Q2, Q3)\n",
        "\n",
        "* Dane między Q1 a Q3 umieszczane w prostokątnych pudełkach\n",
        "\n",
        "* Elementy odstające wyświetlane jako pojedyncze punkty poza pudełkiem\n",
        "\n",
        "* Pokazuje rozstęp ćwiartkowy (IQR)\n",
        "\n",
        "**Zalety**:\n",
        "\n",
        "* Wizualna reprezentacja\n",
        "\n",
        "* Szybkie zidentyfikowanie outliersów\n",
        "\n",
        "* Porównanie wielu zmiennych\n",
        "\n"
      ],
      "metadata": {
        "id": "BCQ-bkaqj4FX"
      }
    },
    {
      "cell_type": "markdown",
      "source": [
        "### **Metoda 2**: Wykres punktowy\n",
        "\n",
        "* Wyświetla punkty na dwuwymiarowym układzie współrzędnych\n",
        "* Jedna zmienna na osi X, druga na osi Y\n",
        "* Idealny do wizualizacji relacji między dwoma zmiennymi\n",
        "* Anomalie widoczne jako izolowane punkty daleko od klastera\n",
        "\n",
        "**Zalety**:\n",
        "\n",
        "* Łatwa identyfikacja outlierów wielowymiarowych\n",
        "* Wizualna analiza trendów\n",
        "* Pokazuje korelacje między zmiennymi"
      ],
      "metadata": {
        "id": "tKRem1dDpYKG"
      }
    },
    {
      "cell_type": "markdown",
      "source": [
        "### **Metoda 3**: Wynik standaryzowany Z-score\n",
        "**Formuła:**\n",
        "\n",
        "z = (x - μ) / σ\n",
        "\n",
        "Gdzie:\n",
        "\n",
        "x = wartość danych,\n",
        "μ = średnia (mean),\n",
        "σ = odchylenie standardowe (standard deviation)\n",
        "\n",
        "**Reguła**:\n",
        "\n",
        "|z| > 3 → element odstający (99.7% danych powinno mieć |z| ≤ 3)\n",
        "\n",
        "|z| > 2.5 → potencjalny outlier\n",
        "\n",
        "**Założenia:**\n",
        "\n",
        "* Rozkład normalny danych\n",
        "\n",
        "* Metoda parametryczna"
      ],
      "metadata": {
        "id": "IUhi42-Kp4e8"
      }
    },
    {
      "cell_type": "markdown",
      "source": [
        "### **Metoda 4**: Rozstęp ćwiartkowy (IQR)\n",
        "**Formuła:**\n",
        "  IQR = Q3 - Q1\n",
        "\n",
        "Gdzie: Q1 = pierwszy kwartyl (25. percentyl), Q3 = trzeci kwartyl (75. percentyl)\n",
        "\n",
        "**Zasada outliersów**:\n",
        "\n",
        "* Dolny limit: Q1 - 1.5 × IQR\n",
        "\n",
        "* Górny limit: Q3 + 1.5 × IQR\n",
        "\n",
        "* Wartości poza limitami = outliersy\n",
        "\n",
        "**Zalety**:\n",
        "\n",
        "* Odporna miara (mało wrażliwa na ekstrema)\n",
        "* Nie wymaga założenia o rozkładzie normalnym\n",
        "* Metoda nieparametryczna\n",
        "\n"
      ],
      "metadata": {
        "id": "Gr-hvCWkrE0Z"
      }
    },
    {
      "cell_type": "markdown",
      "source": [
        "### **Metoda 5**: Percentyl\n",
        "\n",
        "**Percentyl** dzieli dane na 100 grup o równych rozmiarach. Wartość percentyla określa procent populacji znajdujący się poniżej tej wartości.\n",
        "\n",
        "**Przykłady**:\n",
        "\n",
        "* 1. percentyl: bardzo niskie wartości\n",
        "* 50. percentyl: mediana\n",
        "* 99. percentyl: bardzo wysokie wartości\n",
        "\n",
        "\n",
        "\n",
        "**Reguła outliersów**:\n",
        "\n",
        "* Wartości poniżej 1. percentyla → outliersy niskie\n",
        "* Wartości powyżej 99. percentyla → outliersy wysokie\n",
        "* Można również użyć 5. i 95. percentyla"
      ],
      "metadata": {
        "id": "Tdt3W1gCxRzv"
      }
    },
    {
      "cell_type": "markdown",
      "source": [
        "## **PODSUMOWANIE**\n",
        "\n",
        "1. **CO TO OUTLIER?**\n",
        "   \n",
        "   Punkt danych daleko od głównej grupy, wyróżniający się z tłumu\n",
        "\n",
        "2. **DLACZEGO WAŻNY?**\n",
        "   \n",
        "   Psuje modele, zmniejsza dokładność, zwiększa błąd\n",
        "\n",
        "3. **METODY WYKRYWANIA:**\n",
        "\n",
        "    * Boxplot (wykres pudełkowy)\n",
        "\n",
        "    * Scatter plot (wykres punktowy)\n",
        "\n",
        "    * Z-score (standaryzacja)\n",
        "\n",
        "    * IQR (rozstęp ćwiartkowy)\n",
        "\n",
        "    * Percentyle\n",
        "\n",
        "4. **KLUCZOWE TERMINY:**\n",
        "Q1, Q3, IQR, σ (sigma), μ (mu), z-score, outlier"
      ],
      "metadata": {
        "id": "AMUYMWz1WWsw"
      }
    },
    {
      "cell_type": "markdown",
      "source": [
        "## **Przykład praktyczny**\n",
        "\n",
        "**Dane**:\n",
        "Wynagrodzenia pracowników (tys. zł): 2.5, 2.8, 3.0, 3.2, 3.5, 4.0, 4.2, 4.5, 5.0, 15.0\n"
      ],
      "metadata": {
        "id": "Pl2yTY4_ySyh"
      }
    },
    {
      "cell_type": "code",
      "source": [
        "# Dane: wynagrodzenia (tys. zł)\n",
        "dane = np.array([2.5, 2.8, 3.0, 3.2, 3.5, 4.0, 4.2, 4.5, 5.0, 15.0])\n",
        "print(\"\\n1. DANE TESTOWE:\")\n",
        "print(f\"   Wynagrodzenia: {dane}\")\n",
        "print(f\"   Liczba obserwacji: {len(dane)}\")"
      ],
      "metadata": {
        "colab": {
          "base_uri": "https://localhost:8080/"
        },
        "id": "lO-4hAye1c3m",
        "outputId": "3ff51f98-5479-4ae8-8e40-bd3df7887c03"
      },
      "execution_count": null,
      "outputs": [
        {
          "output_type": "stream",
          "name": "stdout",
          "text": [
            "\n",
            "1. DANE TESTOWE:\n",
            "   Wynagrodzenia: [ 2.5  2.8  3.   3.2  3.5  4.   4.2  4.5  5.  15. ]\n",
            "   Liczba obserwacji: 10\n"
          ]
        }
      ]
    },
    {
      "cell_type": "code",
      "source": [
        "print(\"\\n\" + \"=\"*60)\n",
        "print(\"METODA 1: WYKRES PUDEŁKOWY (BOXPLOT - IQR)\")\n",
        "print(\"=\"*60)\n",
        "\n",
        "Q1 = np.percentile(dane, 25)\n",
        "Q3 = np.percentile(dane, 75)\n",
        "IQR = Q3 - Q1\n",
        "dolny_limit = Q1 - 1.5 * IQR\n",
        "gorny_limit = Q3 + 1.5 * IQR\n",
        "\n",
        "print(f\"\\nQ1 (25. percentyl) = {Q1:.2f}\")\n",
        "print(f\"Q3 (75. percentyl) = {Q3:.2f}\")\n",
        "print(f\"IQR = Q3 - Q1 = {IQR:.2f}\")\n",
        "print(f\"\\nLimity dla outliersów:\")\n",
        "print(f\"  Dolny limit = Q1 - 1.5 × IQR = {Q1:.2f} - 1.5 × {IQR:.2f} = {dolny_limit:.2f}\")\n",
        "print(f\"  Górny limit = Q3 + 1.5 × IQR = {Q3:.2f} + 1.5 × {IQR:.2f} = {gorny_limit:.2f}\")\n",
        "\n",
        "outliersy_iqr = dane[(dane < dolny_limit) | (dane > gorny_limit)]\n",
        "print(f\"\\n✓ OUTLIERSY WYKRYTE (metoda IQR): {outliersy_iqr}\")"
      ],
      "metadata": {
        "colab": {
          "base_uri": "https://localhost:8080/"
        },
        "id": "YczLLZY31gZN",
        "outputId": "f618f7bf-bafb-40b9-f09c-80a7bed29b83"
      },
      "execution_count": null,
      "outputs": [
        {
          "output_type": "stream",
          "name": "stdout",
          "text": [
            "\n",
            "============================================================\n",
            "METODA 1: WYKRES PUDEŁKOWY (BOXPLOT - IQR)\n",
            "============================================================\n",
            "\n",
            "Q1 (25. percentyl) = 3.05\n",
            "Q3 (75. percentyl) = 4.42\n",
            "IQR = Q3 - Q1 = 1.38\n",
            "\n",
            "Limity dla outliersów:\n",
            "  Dolny limit = Q1 - 1.5 × IQR = 3.05 - 1.5 × 1.38 = 0.99\n",
            "  Górny limit = Q3 + 1.5 × IQR = 4.42 + 1.5 × 1.38 = 6.49\n",
            "\n",
            "✓ OUTLIERSY WYKRYTE (metoda IQR): [15.]\n"
          ]
        }
      ]
    },
    {
      "cell_type": "code",
      "source": [
        "print(\"\\n\" + \"=\"*60)\n",
        "print(\"METODA 2: Z-SCORE\")\n",
        "print(\"=\"*60)\n",
        "\n",
        "srednia = np.mean(dane)\n",
        "std_dev = np.std(dane, ddof=1)  # ddof=1 dla próby\n",
        "z_scores = np.abs(stats.zscore(dane))\n",
        "\n",
        "print(f\"\\nŚrednia (μ) = {srednia:.2f}\")\n",
        "print(f\"Odchylenie standardowe (σ) = {std_dev:.2f}\")\n",
        "print(f\"\\nFormuła: z = (x - μ) / σ\")\n",
        "print(f\"\\nZ-score dla każdej wartości:\")\n",
        "\n",
        "for i, (wartosc, z) in enumerate(zip(dane, z_scores)):\n",
        "    status = \"⚠️ OUTLIER\" if z > 3 else \"\"\n",
        "    print(f\"  {wartosc:5.1f} → z = {z:6.2f} {status}\")\n",
        "\n",
        "outliersy_z = dane[z_scores > 3]\n",
        "print(f\"\\n✓ OUTLIERSY WYKRYTE (z > 3): {outliersy_z}\")"
      ],
      "metadata": {
        "colab": {
          "base_uri": "https://localhost:8080/"
        },
        "id": "L82MRjNm18m2",
        "outputId": "2c3a9d7a-38a1-40ea-d8f1-1a6d045f7a95"
      },
      "execution_count": null,
      "outputs": [
        {
          "output_type": "stream",
          "name": "stdout",
          "text": [
            "\n",
            "============================================================\n",
            "METODA 2: Z-SCORE\n",
            "============================================================\n",
            "\n",
            "Średnia (μ) = 4.77\n",
            "Odchylenie standardowe (σ) = 3.68\n",
            "\n",
            "Formuła: z = (x - μ) / σ\n",
            "\n",
            "Z-score dla każdej wartości:\n",
            "    2.5 → z =   0.65 \n",
            "    2.8 → z =   0.56 \n",
            "    3.0 → z =   0.51 \n",
            "    3.2 → z =   0.45 \n",
            "    3.5 → z =   0.36 \n",
            "    4.0 → z =   0.22 \n",
            "    4.2 → z =   0.16 \n",
            "    4.5 → z =   0.08 \n",
            "    5.0 → z =   0.07 \n",
            "   15.0 → z =   2.93 \n",
            "\n",
            "✓ OUTLIERSY WYKRYTE (z > 3): []\n"
          ]
        }
      ]
    },
    {
      "cell_type": "code",
      "source": [
        "print(\"\\n\" + \"=\"*60)\n",
        "print(\"METODA 3: PERCENTYL\")\n",
        "print(\"=\"*60)\n",
        "\n",
        "p1 = np.percentile(dane, 1)\n",
        "p99 = np.percentile(dane, 99)\n",
        "p5 = np.percentile(dane, 5)\n",
        "p95 = np.percentile(dane, 95)\n",
        "\n",
        "print(f\"\\n1. percentyl = {p1:.2f}\")\n",
        "print(f\"5. percentyl = {p5:.2f}\")\n",
        "print(f\"95. percentyl = {p95:.2f}\")\n",
        "print(f\"99. percentyl = {p99:.2f}\")\n",
        "\n",
        "print(f\"\\nOutliersy poniżej 1. percentyla: {dane[dane < p1]}\")\n",
        "print(f\"Outliersy powyżej 99. percentyla: {dane[dane > p99]}\")"
      ],
      "metadata": {
        "colab": {
          "base_uri": "https://localhost:8080/"
        },
        "id": "bpoL5fHD2Pge",
        "outputId": "49e13326-6271-47df-ef9f-49e080256adc"
      },
      "execution_count": null,
      "outputs": [
        {
          "output_type": "stream",
          "name": "stdout",
          "text": [
            "\n",
            "============================================================\n",
            "METODA 3: PERCENTYL\n",
            "============================================================\n",
            "\n",
            "1. percentyl = 2.53\n",
            "5. percentyl = 2.63\n",
            "95. percentyl = 10.50\n",
            "99. percentyl = 14.10\n",
            "\n",
            "Outliersy poniżej 1. percentyla: [2.5]\n",
            "Outliersy powyżej 99. percentyla: [15.]\n"
          ]
        }
      ]
    },
    {
      "cell_type": "code",
      "source": [
        "print(\"\\n\" + \"=\"*60)\n",
        "print(\"PODSUMOWANIE - PORÓWNANIE METOD\")\n",
        "print(\"=\"*60)\n",
        "\n",
        "print(f\"\\n{'Metoda':<25} {'Wykryte outliersy':<30} {'Liczba'}\")\n",
        "print(\"-\" * 60)\n",
        "print(f\"{'IQR':<25} {str(outliersy_iqr):<30} {len(outliersy_iqr)}\")\n",
        "print(f\"{'Z-score (|z| > 3)':<25} {str(outliersy_z):<30} {len(outliersy_z)}\")\n",
        "print(f\"{'Percentyl (1-99%)':<25} {str(dane[(dane < p1) | (dane > p99)]):<30} {len(dane[(dane < p1) | (dane > p99)])}\")"
      ],
      "metadata": {
        "colab": {
          "base_uri": "https://localhost:8080/"
        },
        "id": "Tb5pOVDi2gDY",
        "outputId": "6ef3efe8-dbd5-4d44-9cb2-5c606e0d9cb3"
      },
      "execution_count": null,
      "outputs": [
        {
          "output_type": "stream",
          "name": "stdout",
          "text": [
            "\n",
            "============================================================\n",
            "PODSUMOWANIE - PORÓWNANIE METOD\n",
            "============================================================\n",
            "\n",
            "Metoda                    Wykryte outliersy              Liczba\n",
            "------------------------------------------------------------\n",
            "IQR                       [15.]                          1\n",
            "Z-score (|z| > 3)         []                             0\n",
            "Percentyl (1-99%)         [ 2.5 15. ]                    2\n"
          ]
        }
      ]
    },
    {
      "cell_type": "code",
      "source": [
        "print(\"\\n\" + \"=\"*60)\n",
        "print(\"PRZYKŁAD 2: DANE WIELOWYMIAROWE\")\n",
        "print(\"=\"*60)\n",
        "\n",
        "dane_2d = np.array([\n",
        "    [25, 30000],  # wiek, dochód (tys. zł)\n",
        "    [27, 32000],\n",
        "    [26, 31000],\n",
        "    [28, 33000],\n",
        "    [30, 35000],\n",
        "    [28, 250000],  # ← OUTLIER!\n",
        "])\n",
        "\n",
        "df = pd.DataFrame(dane_2d, columns=['Wiek', 'Dochód'])\n",
        "print(\"\\nDane klientów (Wiek, Dochód w tys. zł):\")\n",
        "print(df.to_string(index=False))\n",
        "\n",
        "# Z-score dla każdej kolumny\n",
        "z_scores_wiek = np.abs(stats.zscore(df['Wiek']))\n",
        "z_scores_dochod = np.abs(stats.zscore(df['Dochód']))\n",
        "\n",
        "outliersy_2d = df[(z_scores_wiek > 2) | (z_scores_dochod > 2)]\n",
        "print(f\"\\n✓ OUTLIERSY WIELOWYMIAROWE (z > 2 dla dowolnej zmiennej):\")\n",
        "print(outliersy_2d.to_string())\n"
      ],
      "metadata": {
        "colab": {
          "base_uri": "https://localhost:8080/"
        },
        "id": "55z_oRau2qP8",
        "outputId": "5fea9e6c-0d33-47ed-c2af-4c3c2890c8b4"
      },
      "execution_count": null,
      "outputs": [
        {
          "output_type": "stream",
          "name": "stdout",
          "text": [
            "\n",
            "============================================================\n",
            "PRZYKŁAD 2: DANE WIELOWYMIAROWE\n",
            "============================================================\n",
            "\n",
            "Dane klientów (Wiek, Dochód w tys. zł):\n",
            " Wiek  Dochód\n",
            "   25   30000\n",
            "   27   32000\n",
            "   26   31000\n",
            "   28   33000\n",
            "   30   35000\n",
            "   28  250000\n",
            "\n",
            "✓ OUTLIERSY WIELOWYMIAROWE (z > 2 dla dowolnej zmiennej):\n",
            "   Wiek  Dochód\n",
            "5    28  250000\n"
          ]
        }
      ]
    },
    {
      "cell_type": "markdown",
      "source": [
        "## Wizualizacja analizy"
      ],
      "metadata": {
        "id": "Nh5dqLaxSIDH"
      }
    },
    {
      "cell_type": "code",
      "source": [
        "plt.figure(figsize=(12, 6))\n",
        "\n",
        "plt.subplot(1, 3, 1)\n",
        "plt.boxplot(dane)\n",
        "plt.ylabel('Wynagrodzenie (tys. zł)')\n",
        "plt.title('Boxplot - IQR')\n",
        "plt.grid(True, alpha=0.3)\n",
        "\n",
        "# Histogram z Z-score\n",
        "plt.subplot(1, 3, 2)\n",
        "plt.hist(dane, bins=5, alpha=0.7, color='blue')\n",
        "plt.axvline(srednia, color='red', linestyle='--', label='Średnia')\n",
        "plt.axvline(srednia + 3*std_dev, color='green', linestyle='--', label='±3σ')\n",
        "plt.axvline(srednia - 3*std_dev, color='green', linestyle='--')\n",
        "plt.xlabel('Wynagrodzenie (tys. zł)')\n",
        "plt.ylabel('Częstość')\n",
        "plt.title('Histogram - Z-score')\n",
        "plt.legend()\n",
        "plt.grid(True, alpha=0.3)\n",
        "\n",
        "# Scatter plot 2D\n",
        "plt.subplot(1, 3, 3)\n",
        "plt.scatter(dane_2d[:, 0], dane_2d[:, 1], s=100)\n",
        "plt.scatter(dane_2d[-1, 0], dane_2d[-1, 1], color='red', s=200, marker='x', label='Outlier')\n",
        "plt.xlabel('Wiek')\n",
        "plt.ylabel('Dochód (tys. zł)')\n",
        "plt.title('Scatter Plot - Dane wielowymiarowe')\n",
        "plt.legend()\n",
        "plt.grid(True, alpha=0.3)\n",
        "\n",
        "plt.tight_layout()\n",
        "plt.show()"
      ],
      "metadata": {
        "colab": {
          "base_uri": "https://localhost:8080/",
          "height": 607
        },
        "id": "rs3HKDpb24F9",
        "outputId": "cb4b7f8e-26b3-4e29-e12b-d331d8baa828"
      },
      "execution_count": null,
      "outputs": [
        {
          "output_type": "display_data",
          "data": {
            "text/plain": [
              "<Figure size 1200x600 with 3 Axes>"
            ],
            "image/png": "[encoded data removed]"
          },
          "metadata": {}
        }
      ]
    },
    {
      "cell_type": "code",
      "source": [
        "from google.colab import files\n",
        "\n",
        "uploaded = files.upload()"
      ],
      "metadata": {
        "id": "4HRUceHr3m29",
        "colab": {
          "base_uri": "https://localhost:8080/",
          "height": 109
        },
        "outputId": "fa49cb07-425a-459f-bc98-cece964b5e3b"
      },
      "execution_count": 2,
      "outputs": [
        {
          "output_type": "display_data",
          "data": {
            "text/plain": [
              "<IPython.core.display.HTML object>"
            ],
            "text/html": [
              "\n",
              "     <input type=\"file\" id=\"files-53d2c11b-5940-40d7-8735-68a0211d8edd\" name=\"files[]\" multiple disabled\n",
              "        style=\"border:none\" />\n",
              "     <output id=\"result-53d2c11b-5940-40d7-8735-68a0211d8edd\">\n",
              "      Upload widget is only available when the cell has been executed in the\n",
              "      current browser session. Please rerun this cell to enable.\n",
              "      </output>\n",
              "      <script>// Copyright 2017 Google LLC\n",
              "//\n",
              "// Licensed under the Apache License, Version 2.0 (the \"License\");\n",
              "// you may not use this file except in compliance with the License.\n",
              "// You may obtain a copy of the License at\n",
              "//\n",
              "//      http://www.apache.org/licenses/LICENSE-2.0\n",
              "//\n",
              "// Unless required by applicable law or agreed to in writing, software\n",
              "// distributed under the License is distributed on an \"AS IS\" BASIS,\n",
              "// WITHOUT WARRANTIES OR CONDITIONS OF ANY KIND, either express or implied.\n",
              "// See the License for the specific language governing permissions and\n",
              "// limitations under the License.\n",
              "\n",
              "/**\n",
              " * @fileoverview Helpers for google.colab Python module.\n",
              " */\n",
              "(function(scope) {\n",
              "function span(text, styleAttributes = {}) {\n",
              "  const element = document.createElement('span');\n",
              "  element.textContent = text;\n",
              "  for (const key of Object.keys(styleAttributes)) {\n",
              "    element.style[key] = styleAttributes[key];\n",
              "  }\n",
              "  return element;\n",
              "}\n",
              "\n",
              "// Max number of bytes which will be uploaded at a time.\n",
              "const MAX_PAYLOAD_SIZE = 100 * 1024;\n",
              "\n",
              "function _uploadFiles(inputId, outputId) {\n",
              "  const steps = uploadFilesStep(inputId, outputId);\n",
              "  const outputElement = document.getElementById(outputId);\n",
              "  // Cache steps on the outputElement to make it available for the next call\n",
              "  // to uploadFilesContinue from Python.\n",
              "  outputElement.steps = steps;\n",
              "\n",
              "  return _uploadFilesContinue(outputId);\n",
              "}\n",
              "\n",
              "// This is roughly an async generator (not supported in the browser yet),\n",
              "// where there are multiple asynchronous steps and the Python side is going\n",
              "// to poll for completion of each step.\n",
              "// This uses a Promise to block the python side on completion of each step,\n",
              "// then passes the result of the previous step as the input to the next step.\n",
              "function _uploadFilesContinue(outputId) {\n",
              "  const outputElement = document.getElementById(outputId);\n",
              "  const steps = outputElement.steps;\n",
              "\n",
              "  const next = steps.next(outputElement.lastPromiseValue);\n",
              "  return Promise.resolve(next.value.promise).then((value) => {\n",
              "    // Cache the last promise value to make it available to the next\n",
              "    // step of the generator.\n",
              "    outputElement.lastPromiseValue = value;\n",
              "    return next.value.response;\n",
              "  });\n",
              "}\n",
              "\n",
              "/**\n",
              " * Generator function which is called between each async step of the upload\n",
              " * process.\n",
              " * @param {string} inputId Element ID of the input file picker element.\n",
              " * @param {string} outputId Element ID of the output display.\n",
              " * @return {!Iterable<!Object>} Iterable of next steps.\n",
              " */\n",
              "function* uploadFilesStep(inputId, outputId) {\n",
              "  const inputElement = document.getElementById(inputId);\n",
              "  inputElement.disabled = false;\n",
              "\n",
              "  const outputElement = document.getElementById(outputId);\n",
              "  outputElement.innerHTML = '';\n",
              "\n",
              "  const pickedPromise = new Promise((resolve) => {\n",
              "    inputElement.addEventListener('change', (e) => {\n",
              "      resolve(e.target.files);\n",
              "    });\n",
              "  });\n",
              "\n",
              "  const cancel = document.createElement('button');\n",
              "  inputElement.parentElement.appendChild(cancel);\n",
              "  cancel.textContent = 'Cancel upload';\n",
              "  const cancelPromise = new Promise((resolve) => {\n",
              "    cancel.onclick = () => {\n",
              "      resolve(null);\n",
              "    };\n",
              "  });\n",
              "\n",
              "  // Wait for the user to pick the files.\n",
              "  const files = yield {\n",
              "    promise: Promise.race([pickedPromise, cancelPromise]),\n",
              "    response: {\n",
              "      action: 'starting',\n",
              "    }\n",
              "  };\n",
              "\n",
              "  cancel.remove();\n",
              "\n",
              "  // Disable the input element since further picks are not allowed.\n",
              "  inputElement.disabled = true;\n",
              "\n",
              "  if (!files) {\n",
              "    return {\n",
              "      response: {\n",
              "        action: 'complete',\n",
              "      }\n",
              "    };\n",
              "  }\n",
              "\n",
              "  for (const file of files) {\n",
              "    const li = document.createElement('li');\n",
              "    li.append(span(file.name, {fontWeight: 'bold'}));\n",
              "    li.append(span(\n",
              "        `(${file.type || 'n/a'}) - ${file.size} bytes, ` +\n",
              "        `last modified: ${\n",
              "            file.lastModifiedDate ? file.lastModifiedDate.toLocaleDateString() :\n",
              "                                    'n/a'} - `));\n",
              "    const percent = span('0% done');\n",
              "    li.appendChild(percent);\n",
              "\n",
              "    outputElement.appendChild(li);\n",
              "\n",
              "    const fileDataPromise = new Promise((resolve) => {\n",
              "      const reader = new FileReader();\n",
              "      reader.onload = (e) => {\n",
              "        resolve(e.target.result);\n",
              "      };\n",
              "      reader.readAsArrayBuffer(file);\n",
              "    });\n",
              "    // Wait for the data to be ready.\n",
              "    let fileData = yield {\n",
              "      promise: fileDataPromise,\n",
              "      response: {\n",
              "        action: 'continue',\n",
              "      }\n",
              "    };\n",
              "\n",
              "    // Use a chunked sending to avoid message size limits. See b/62115660.\n",
              "    let position = 0;\n",
              "    do {\n",
              "      const length = Math.min(fileData.byteLength - position, MAX_PAYLOAD_SIZE);\n",
              "      const chunk = new Uint8Array(fileData, position, length);\n",
              "      position += length;\n",
              "\n",
              "      const base64 = btoa(String.fromCharCode.apply(null, chunk));\n",
              "      yield {\n",
              "        response: {\n",
              "          action: 'append',\n",
              "          file: file.name,\n",
              "          data: base64,\n",
              "        },\n",
              "      };\n",
              "\n",
              "      let percentDone = fileData.byteLength === 0 ?\n",
              "          100 :\n",
              "          Math.round((position / fileData.byteLength) * 100);\n",
              "      percent.textContent = `${percentDone}% done`;\n",
              "\n",
              "    } while (position < fileData.byteLength);\n",
              "  }\n",
              "\n",
              "  // All done.\n",
              "  yield {\n",
              "    response: {\n",
              "      action: 'complete',\n",
              "    }\n",
              "  };\n",
              "}\n",
              "\n",
              "scope.google = scope.google || {};\n",
              "scope.google.colab = scope.google.colab || {};\n",
              "scope.google.colab._files = {\n",
              "  _uploadFiles,\n",
              "  _uploadFilesContinue,\n",
              "};\n",
              "})(self);\n",
              "</script> "
            ]
          },
          "metadata": {}
        },
        {
          "output_type": "stream",
          "name": "stdout",
          "text": [
            "Saving klienci_banku.csv to klienci_banku.csv\n",
            "Saving sprzedaz_dzienna.csv to sprzedaz_dzienna.csv\n"
          ]
        }
      ]
    },
    {
      "cell_type": "markdown",
      "source": [
        "# **Zadanie 1**\n",
        "\n",
        "\n",
        "Pracujesz w firmie zajmującej się e-commerce. Otrzymałeś dane o sprzedaży\n",
        "dziennej (liczba sztuk) z ostatnich 30 dni.\n",
        "\n",
        "\n",
        "ZADANIE:\n",
        "- Wczytaj dane sprzedażowe\n",
        "- Zrób wizualizację danych\n",
        "- Zastosuj metodę IQR, z-score oraz opartą na percentylach (1-99%)\n",
        "- Zidentyfikuj outliersów\n",
        "- Wyjaśnij co mogło się stać\n",
        "\n"
      ],
      "metadata": {
        "id": "CdbXryOy30S3"
      }
    },
    {
      "cell_type": "code",
      "source": [
        "sale_df = pd.read_csv('sprzedaz_dzienna.csv')"
      ],
      "metadata": {
        "id": "CXBuNJ0vrzov"
      },
      "execution_count": 9,
      "outputs": []
    },
    {
      "cell_type": "code",
      "source": [
        "#sale_df.sort_values(by='sprzedaz', ascending=False)"
      ],
      "metadata": {
        "id": "4EpxPwths30o"
      },
      "execution_count": 20,
      "outputs": []
    },
    {
      "cell_type": "code",
      "source": [
        "plt.boxplot(sale_df['sprzedaz'])\n",
        "plt.ylabel('Liczba sztuk sprzedaży')\n",
        "plt.title('Boxplot')\n",
        "plt.grid(True, alpha=0.3)"
      ],
      "metadata": {
        "colab": {
          "base_uri": "https://localhost:8080/",
          "height": 452
        },
        "id": "WP47tAu2tnHw",
        "outputId": "fcec1312-b5e2-4259-c63d-df1279f52deb"
      },
      "execution_count": 33,
      "outputs": [
        {
          "output_type": "display_data",
          "data": {
            "text/plain": [
              "<Figure size 640x480 with 1 Axes>"
            ],
            "image/png": "[encoded data removed]"
          },
          "metadata": {}
        }
      ]
    },
    {
      "cell_type": "code",
      "source": [
        "Q1 = np.percentile(sale_df['sprzedaz'], 25)\n",
        "Q3 = np.percentile(sale_df['sprzedaz'], 75)\n",
        "IQR = Q3 - Q1\n",
        "dolny_limit = Q1 - 1.5 * IQR\n",
        "gorny_limit = Q3 + 1.5 * IQR\n",
        "print(\"IQR\")\n",
        "print(f\"\\n dolny_limit = {dolny_limit:.2f}\")\n",
        "print(f\"\\n gorny_limit = {gorny_limit:.2f}\")\n",
        "outliersy_iqr = sale_df['sprzedaz'][(sale_df['sprzedaz'] < dolny_limit) | (sale_df['sprzedaz'] > gorny_limit)]\n",
        "print(f\"\\n✓ OUTLIERSY WYKRYTE (metoda IQR): {outliersy_iqr}\")"
      ],
      "metadata": {
        "colab": {
          "base_uri": "https://localhost:8080/"
        },
        "id": "xsZ85KtMuQGJ",
        "outputId": "365c32a7-83ed-4027-a9b7-e3b062d9b99d"
      },
      "execution_count": 18,
      "outputs": [
        {
          "output_type": "stream",
          "name": "stdout",
          "text": [
            "IQR\n",
            "\n",
            " dolny_limit = 0.75\n",
            "\n",
            " gorny_limit = 114.75\n",
            "\n",
            "✓ OUTLIERSY WYKRYTE (metoda IQR): 18    348\n",
            "Name: sprzedaz, dtype: int64\n"
          ]
        }
      ]
    },
    {
      "cell_type": "code",
      "source": [
        "print(\"z-score\")\n",
        "\n",
        "z_scores = np.abs(stats.zscore(sale_df['sprzedaz']))\n",
        "\n",
        "for i, (wartosc, z) in enumerate(zip(sale_df['sprzedaz'], z_scores)):\n",
        "    status = \"OUTLIER\" if z > 3 else \"\"\n",
        "    print(f\"  {wartosc:5.1f} → z = {z:6.2f} {status}\")\n",
        "\n",
        "outliersy_z = sale_df['sprzedaz'][z_scores > 3]\n",
        "print(f\"\\n✓ OUTLIERSY WYKRYTE (z > 3): {outliersy_z}\")"
      ],
      "metadata": {
        "colab": {
          "base_uri": "https://localhost:8080/"
        },
        "id": "s8UXjBYKvdUe",
        "outputId": "e4a79dbf-c9e2-4729-b191-23c873b6ea96"
      },
      "execution_count": 26,
      "outputs": [
        {
          "output_type": "stream",
          "name": "stdout",
          "text": [
            "z-score\n",
            "   65.0 → z =   0.12 \n",
            "   71.0 → z =   0.01 \n",
            "   69.0 → z =   0.05 \n",
            "   73.0 → z =   0.02 \n",
            "   74.0 → z =   0.04 \n",
            "   44.0 → z =   0.50 \n",
            "   41.0 → z =   0.56 \n",
            "   71.0 → z =   0.01 \n",
            "   72.0 → z =   0.00 \n",
            "   70.0 → z =   0.03 \n",
            "   73.0 → z =   0.02 \n",
            "   75.0 → z =   0.06 \n",
            "   42.0 → z =   0.54 \n",
            "   36.0 → z =   0.65 \n",
            "   64.0 → z =   0.14 \n",
            "   69.0 → z =   0.05 \n",
            "   71.0 → z =   0.01 \n",
            "   72.0 → z =   0.00 \n",
            "  348.0 → z =   5.02 OUTLIER\n",
            "   40.0 → z =   0.58 \n",
            "   41.0 → z =   0.56 \n",
            "   68.0 → z =   0.07 \n",
            "   75.0 → z =   0.06 \n",
            "   67.0 → z =   0.09 \n",
            "   71.0 → z =   0.01 \n",
            "   71.0 → z =   0.01 \n",
            "   41.0 → z =   0.56 \n",
            "   35.0 → z =   0.67 \n",
            "\n",
            "✓ OUTLIERSY WYKRYTE (z > 3): 18    348\n",
            "Name: sprzedaz, dtype: int64\n"
          ]
        }
      ]
    },
    {
      "cell_type": "code",
      "source": [
        "print(\"Percentyl\")\n",
        "\n",
        "p1 = np.percentile(sale_df['sprzedaz'], 1)\n",
        "p99 = np.percentile(sale_df['sprzedaz'], 99)\n",
        "print(f\"\\nOutliersy poniżej 1. percentyla: {sale_df['sprzedaz'][sale_df['sprzedaz'] < p1]}\")\n",
        "print(f\"Outliersy powyżej 99. percentyla: {sale_df['sprzedaz'][sale_df['sprzedaz'] > p99]}\")"
      ],
      "metadata": {
        "colab": {
          "base_uri": "https://localhost:8080/"
        },
        "id": "deIIFwRJwKY-",
        "outputId": "c93eebdd-0429-499b-8ebd-07d830fd19c1"
      },
      "execution_count": 22,
      "outputs": [
        {
          "output_type": "stream",
          "name": "stdout",
          "text": [
            "Percentyl\n",
            "\n",
            "Outliersy poniżej 1. percentyla: 27    35\n",
            "Name: sprzedaz, dtype: int64\n",
            "Outliersy powyżej 99. percentyla: 18    348\n",
            "Name: sprzedaz, dtype: int64\n"
          ]
        }
      ]
    },
    {
      "cell_type": "markdown",
      "source": [
        "## **Zadanie 2**\n",
        "\n",
        "Jesteś analitykiem w banku. Otrzymałeś dane o klientach zaciągających kredyty.\n",
        "Każdy klient ma 4 cechy:\n",
        "  1. Wiek (lata)\n",
        "  2. Dochód roczny (tys. PLN)\n",
        "  3. Suma kredytów (tys. PLN)\n",
        "  4. Liczba lat jako klient\n",
        "\n",
        "Do zrobienia:\n",
        "- Zidentyfikować klientów wielowymiarowych outliersów\n",
        "- Użyj metody z-score dla każdego wymiaru osobno\n",
        "\n"
      ],
      "metadata": {
        "id": "sZMoJwEz_HMI"
      }
    },
    {
      "cell_type": "code",
      "source": [
        "klienci_df = pd.read_csv('klienci_banku.csv')\n",
        "klienci_df.head()\n",
        "\n",
        "numeric_cols = ['wiek_lat', 'dochod_roczny_tys', 'suma_kredytow_tys', 'lata_jako_klient']\n",
        "z_scores_df = klienci_df[numeric_cols].apply(lambda x: np.abs(stats.zscore(x)))\n",
        "\n",
        "print(\"\\nBezwzględne wartości Z-score dla każdej cechy:\")\n",
        "display(z_scores_df.head())\n",
        "\n",
        "outliersy_multidimensional = klienci_df[(z_scores_df > 3).any(axis=1)]\n",
        "\n",
        "print(f\"\\n✓ KLIENCI WYKRYCI JAKO OUTLIERSY WIELOWYMIAROWE (Z-score > 3 dla dowolnej cechy):\")\n",
        "display(outliersy_multidimensional)\n",
        "\n"
      ],
      "metadata": {
        "colab": {
          "base_uri": "https://localhost:8080/",
          "height": 341
        },
        "id": "vueiPLpKwret",
        "outputId": "f3407055-30dc-4da2-c802-daeace4644c1"
      },
      "execution_count": 29,
      "outputs": [
        {
          "output_type": "stream",
          "name": "stdout",
          "text": [
            "\n",
            "Bezwzględne wartości Z-score dla każdej cechy:\n"
          ]
        },
        {
          "output_type": "display_data",
          "data": {
            "text/plain": [
              "   wiek_lat  dochod_roczny_tys  suma_kredytow_tys  lata_jako_klient\n",
              "0  0.066194           0.158499           0.229029          0.229273\n",
              "1  0.154794           0.166336           0.117703          0.425109\n",
              "2  0.098135           0.148601           0.171003          0.495403\n",
              "3  0.138712           0.181967           0.121913          0.137413\n",
              "4  0.118461           0.142883           0.224717          0.041756"
            ],
            "text/html": [
              "\n",
              "  <div id=\"df-61a3ee45-b748-4a87-8e93-fae014f385b7\" class=\"colab-df-container\">\n",
              "    <div>\n",
              "<style scoped>\n",
              "    .dataframe tbody tr th:only-of-type {\n",
              "        vertical-align: middle;\n",
              "    }\n",
              "\n",
              "    .dataframe tbody tr th {\n",
              "        vertical-align: top;\n",
              "    }\n",
              "\n",
              "    .dataframe thead th {\n",
              "        text-align: right;\n",
              "    }\n",
              "</style>\n",
              "<table border=\"1\" class=\"dataframe\">\n",
              "  <thead>\n",
              "    <tr style=\"text-align: right;\">\n",
              "      <th></th>\n",
              "      <th>wiek_lat</th>\n",
              "      <th>dochod_roczny_tys</th>\n",
              "      <th>suma_kredytow_tys</th>\n",
              "      <th>lata_jako_klient</th>\n",
              "    </tr>\n",
              "  </thead>\n",
              "  <tbody>\n",
              "    <tr>\n",
              "      <th>0</th>\n",
              "      <td>0.066194</td>\n",
              "      <td>0.158499</td>\n",
              "      <td>0.229029</td>\n",
              "      <td>0.229273</td>\n",
              "    </tr>\n",
              "    <tr>\n",
              "      <th>1</th>\n",
              "      <td>0.154794</td>\n",
              "      <td>0.166336</td>\n",
              "      <td>0.117703</td>\n",
              "      <td>0.425109</td>\n",
              "    </tr>\n",
              "    <tr>\n",
              "      <th>2</th>\n",
              "      <td>0.098135</td>\n",
              "      <td>0.148601</td>\n",
              "      <td>0.171003</td>\n",
              "      <td>0.495403</td>\n",
              "    </tr>\n",
              "    <tr>\n",
              "      <th>3</th>\n",
              "      <td>0.138712</td>\n",
              "      <td>0.181967</td>\n",
              "      <td>0.121913</td>\n",
              "      <td>0.137413</td>\n",
              "    </tr>\n",
              "    <tr>\n",
              "      <th>4</th>\n",
              "      <td>0.118461</td>\n",
              "      <td>0.142883</td>\n",
              "      <td>0.224717</td>\n",
              "      <td>0.041756</td>\n",
              "    </tr>\n",
              "  </tbody>\n",
              "</table>\n",
              "</div>\n",
              "    <div class=\"colab-df-buttons\">\n",
              "\n",
              "  <div class=\"colab-df-container\">\n",
              "    <button class=\"colab-df-convert\" onclick=\"convertToInteractive('df-61a3ee45-b748-4a87-8e93-fae014f385b7')\"\n",
              "            title=\"Convert this dataframe to an interactive table.\"\n",
              "            style=\"display:none;\">\n",
              "\n",
              "  <svg xmlns=\"http://www.w3.org/2000/svg\" height=\"24px\" viewBox=\"0 -960 960 960\">\n",
              "    <path d=\"M120-120v-720h720v720H120Zm60-500h600v-160H180v160Zm220 220h160v-160H400v160Zm0 220h160v-160H400v160ZM180-400h160v-160H180v160Zm440 0h160v-160H620v160ZM180-180h160v-160H180v160Zm440 0h160v-160H620v160Z\"/>\n",
              "  </svg>\n",
              "    </button>\n",
              "\n",
              "  <style>\n",
              "    .colab-df-container {\n",
              "      display:flex;\n",
              "      gap: 12px;\n",
              "    }\n",
              "\n",
              "    .colab-df-convert {\n",
              "      background-color: #E8F0FE;\n",
              "      border: none;\n",
              "      border-radius: 50%;\n",
              "      cursor: pointer;\n",
              "      display: none;\n",
              "      fill: #1967D2;\n",
              "      height: 32px;\n",
              "      padding: 0 0 0 0;\n",
              "      width: 32px;\n",
              "    }\n",
              "\n",
              "    .colab-df-convert:hover {\n",
              "      background-color: #E2EBFA;\n",
              "      box-shadow: 0px 1px 2px rgba(60, 64, 67, 0.3), 0px 1px 3px 1px rgba(60, 64, 67, 0.15);\n",
              "      fill: #174EA6;\n",
              "    }\n",
              "\n",
              "    .colab-df-buttons div {\n",
              "      margin-bottom: 4px;\n",
              "    }\n",
              "\n",
              "    [theme=dark] .colab-df-convert {\n",
              "      background-color: #3B4455;\n",
              "      fill: #D2E3FC;\n",
              "    }\n",
              "\n",
              "    [theme=dark] .colab-df-convert:hover {\n",
              "      background-color: #434B5C;\n",
              "      box-shadow: 0px 1px 3px 1px rgba(0, 0, 0, 0.15);\n",
              "      filter: drop-shadow(0px 1px 2px rgba(0, 0, 0, 0.3));\n",
              "      fill: #FFFFFF;\n",
              "    }\n",
              "  </style>\n",
              "\n",
              "    <script>\n",
              "      const buttonEl =\n",
              "        document.querySelector('#df-61a3ee45-b748-4a87-8e93-fae014f385b7 button.colab-df-convert');\n",
              "      buttonEl.style.display =\n",
              "        google.colab.kernel.accessAllowed ? 'block' : 'none';\n",
              "\n",
              "      async function convertToInteractive(key) {\n",
              "        const element = document.querySelector('#df-61a3ee45-b748-4a87-8e93-fae014f385b7');\n",
              "        const dataTable =\n",
              "          await google.colab.kernel.invokeFunction('convertToInteractive',\n",
              "                                                    [key], {});\n",
              "        if (!dataTable) return;\n",
              "\n",
              "        const docLinkHtml = 'Like what you see? Visit the ' +\n",
              "          '<a target=\"_blank\" href=https://colab.research.google.com/notebooks/data_table.ipynb>data table notebook</a>'\n",
              "          + ' to learn more about interactive tables.';\n",
              "        element.innerHTML = '';\n",
              "        dataTable['output_type'] = 'display_data';\n",
              "        await google.colab.output.renderOutput(dataTable, element);\n",
              "        const docLink = document.createElement('div');\n",
              "        docLink.innerHTML = docLinkHtml;\n",
              "        element.appendChild(docLink);\n",
              "      }\n",
              "    </script>\n",
              "  </div>\n",
              "\n",
              "\n",
              "    <div id=\"df-0a9073fb-1c3d-493f-a046-51bb6ee96c13\">\n",
              "      <button class=\"colab-df-quickchart\" onclick=\"quickchart('df-0a9073fb-1c3d-493f-a046-51bb6ee96c13')\"\n",
              "                title=\"Suggest charts\"\n",
              "                style=\"display:none;\">\n",
              "\n",
              "<svg xmlns=\"http://www.w3.org/2000/svg\" height=\"24px\"viewBox=\"0 0 24 24\"\n",
              "     width=\"24px\">\n",
              "    <g>\n",
              "        <path d=\"M19 3H5c-1.1 0-2 .9-2 2v14c0 1.1.9 2 2 2h14c1.1 0 2-.9 2-2V5c0-1.1-.9-2-2-2zM9 17H7v-7h2v7zm4 0h-2V7h2v10zm4 0h-2v-4h2v4z\"/>\n",
              "    </g>\n",
              "</svg>\n",
              "      </button>\n",
              "\n",
              "<style>\n",
              "  .colab-df-quickchart {\n",
              "      --bg-color: #E8F0FE;\n",
              "      --fill-color: #1967D2;\n",
              "      --hover-bg-color: #E2EBFA;\n",
              "      --hover-fill-color: #174EA6;\n",
              "      --disabled-fill-color: #AAA;\n",
              "      --disabled-bg-color: #DDD;\n",
              "  }\n",
              "\n",
              "  [theme=dark] .colab-df-quickchart {\n",
              "      --bg-color: #3B4455;\n",
              "      --fill-color: #D2E3FC;\n",
              "      --hover-bg-color: #434B5C;\n",
              "      --hover-fill-color: #FFFFFF;\n",
              "      --disabled-bg-color: #3B4455;\n",
              "      --disabled-fill-color: #666;\n",
              "  }\n",
              "\n",
              "  .colab-df-quickchart {\n",
              "    background-color: var(--bg-color);\n",
              "    border: none;\n",
              "    border-radius: 50%;\n",
              "    cursor: pointer;\n",
              "    display: none;\n",
              "    fill: var(--fill-color);\n",
              "    height: 32px;\n",
              "    padding: 0;\n",
              "    width: 32px;\n",
              "  }\n",
              "\n",
              "  .colab-df-quickchart:hover {\n",
              "    background-color: var(--hover-bg-color);\n",
              "    box-shadow: 0 1px 2px rgba(60, 64, 67, 0.3), 0 1px 3px 1px rgba(60, 64, 67, 0.15);\n",
              "    fill: var(--button-hover-fill-color);\n",
              "  }\n",
              "\n",
              "  .colab-df-quickchart-complete:disabled,\n",
              "  .colab-df-quickchart-complete:disabled:hover {\n",
              "    background-color: var(--disabled-bg-color);\n",
              "    fill: var(--disabled-fill-color);\n",
              "    box-shadow: none;\n",
              "  }\n",
              "\n",
              "  .colab-df-spinner {\n",
              "    border: 2px solid var(--fill-color);\n",
              "    border-color: transparent;\n",
              "    border-bottom-color: var(--fill-color);\n",
              "    animation:\n",
              "      spin 1s steps(1) infinite;\n",
              "  }\n",
              "\n",
              "  @keyframes spin {\n",
              "    0% {\n",
              "      border-color: transparent;\n",
              "      border-bottom-color: var(--fill-color);\n",
              "      border-left-color: var(--fill-color);\n",
              "    }\n",
              "    20% {\n",
              "      border-color: transparent;\n",
              "      border-left-color: var(--fill-color);\n",
              "      border-top-color: var(--fill-color);\n",
              "    }\n",
              "    30% {\n",
              "      border-color: transparent;\n",
              "      border-left-color: var(--fill-color);\n",
              "      border-top-color: var(--fill-color);\n",
              "      border-right-color: var(--fill-color);\n",
              "    }\n",
              "    40% {\n",
              "      border-color: transparent;\n",
              "      border-right-color: var(--fill-color);\n",
              "      border-top-color: var(--fill-color);\n",
              "    }\n",
              "    60% {\n",
              "      border-color: transparent;\n",
              "      border-right-color: var(--fill-color);\n",
              "    }\n",
              "    80% {\n",
              "      border-color: transparent;\n",
              "      border-right-color: var(--fill-color);\n",
              "      border-bottom-color: var(--fill-color);\n",
              "    }\n",
              "    90% {\n",
              "      border-color: transparent;\n",
              "      border-bottom-color: var(--fill-color);\n",
              "    }\n",
              "  }\n",
              "</style>\n",
              "\n",
              "      <script>\n",
              "        async function quickchart(key) {\n",
              "          const quickchartButtonEl =\n",
              "            document.querySelector('#' + key + ' button');\n",
              "          quickchartButtonEl.disabled = true;  // To prevent multiple clicks.\n",
              "          quickchartButtonEl.classList.add('colab-df-spinner');\n",
              "          try {\n",
              "            const charts = await google.colab.kernel.invokeFunction(\n",
              "                'suggestCharts', [key], {});\n",
              "          } catch (error) {\n",
              "            console.error('Error during call to suggestCharts:', error);\n",
              "          }\n",
              "          quickchartButtonEl.classList.remove('colab-df-spinner');\n",
              "          quickchartButtonEl.classList.add('colab-df-quickchart-complete');\n",
              "        }\n",
              "        (() => {\n",
              "          let quickchartButtonEl =\n",
              "            document.querySelector('#df-0a9073fb-1c3d-493f-a046-51bb6ee96c13 button');\n",
              "          quickchartButtonEl.style.display =\n",
              "            google.colab.kernel.accessAllowed ? 'block' : 'none';\n",
              "        })();\n",
              "      </script>\n",
              "    </div>\n",
              "\n",
              "    </div>\n",
              "  </div>\n"
            ],
            "application/vnd.google.colaboratory.intrinsic+json": {
              "type": "dataframe",
              "summary": "{\n  \"name\": \"display(outliersy_multidimensional)\",\n  \"rows\": 5,\n  \"fields\": [\n    {\n      \"column\": \"wiek_lat\",\n      \"properties\": {\n        \"dtype\": \"number\",\n        \"std\": 0.03472732195065746,\n        \"min\": 0.06619403087033317,\n        \"max\": 0.15479423415885873,\n        \"num_unique_values\": 5,\n        \"samples\": [\n          0.15479423415885873,\n          0.11846070541532895,\n          0.09813477642560835\n        ],\n        \"semantic_type\": \"\",\n        \"description\": \"\"\n      }\n    },\n    {\n      \"column\": \"dochod_roczny_tys\",\n      \"properties\": {\n        \"dtype\": \"number\",\n        \"std\": 0.015388877921006416,\n        \"min\": 0.14288300017066252,\n        \"max\": 0.18196664138445878,\n        \"num_unique_values\": 5,\n        \"samples\": [\n          0.16633608750875933,\n          0.14288300017066252,\n          0.14860114151423315\n        ],\n        \"semantic_type\": \"\",\n        \"description\": \"\"\n      }\n    },\n    {\n      \"column\": \"suma_kredytow_tys\",\n      \"properties\": {\n        \"dtype\": \"number\",\n        \"std\": 0.053585086649894836,\n        \"min\": 0.11770266945501366,\n        \"max\": 0.2290290625745373,\n        \"num_unique_values\": 5,\n        \"samples\": [\n          0.11770266945501366,\n          0.22471684363009664,\n          0.17100285714875624\n        ],\n        \"semantic_type\": \"\",\n        \"description\": \"\"\n      }\n    },\n    {\n      \"column\": \"lata_jako_klient\",\n      \"properties\": {\n        \"dtype\": \"number\",\n        \"std\": 0.19112187372769768,\n        \"min\": 0.04175583518803587,\n        \"max\": 0.49540305538432833,\n        \"num_unique_values\": 5,\n        \"samples\": [\n          0.42510947653602105,\n          0.04175583518803587,\n          0.49540305538432833\n        ],\n        \"semantic_type\": \"\",\n        \"description\": \"\"\n      }\n    }\n  ]\n}"
            }
          },
          "metadata": {}
        },
        {
          "output_type": "stream",
          "name": "stdout",
          "text": [
            "\n",
            "✓ KLIENCI WYKRYCI JAKO OUTLIERSY WIELOWYMIAROWE (Z-score > 2 dla dowolnej cechy):\n"
          ]
        },
        {
          "output_type": "display_data",
          "data": {
            "text/plain": [
              "    Unnamed: 0  wiek_lat  dochod_roczny_tys  suma_kredytow_tys  \\\n",
              "48          48     999.0             5001.0            10001.0   \n",
              "\n",
              "    lata_jako_klient  \n",
              "48             100.1  "
            ],
            "text/html": [
              "\n",
              "  <div id=\"df-34c8e70d-d64c-4b7f-8d4e-2728d80c6c0b\" class=\"colab-df-container\">\n",
              "    <div>\n",
              "<style scoped>\n",
              "    .dataframe tbody tr th:only-of-type {\n",
              "        vertical-align: middle;\n",
              "    }\n",
              "\n",
              "    .dataframe tbody tr th {\n",
              "        vertical-align: top;\n",
              "    }\n",
              "\n",
              "    .dataframe thead th {\n",
              "        text-align: right;\n",
              "    }\n",
              "</style>\n",
              "<table border=\"1\" class=\"dataframe\">\n",
              "  <thead>\n",
              "    <tr style=\"text-align: right;\">\n",
              "      <th></th>\n",
              "      <th>Unnamed: 0</th>\n",
              "      <th>wiek_lat</th>\n",
              "      <th>dochod_roczny_tys</th>\n",
              "      <th>suma_kredytow_tys</th>\n",
              "      <th>lata_jako_klient</th>\n",
              "    </tr>\n",
              "  </thead>\n",
              "  <tbody>\n",
              "    <tr>\n",
              "      <th>48</th>\n",
              "      <td>48</td>\n",
              "      <td>999.0</td>\n",
              "      <td>5001.0</td>\n",
              "      <td>10001.0</td>\n",
              "      <td>100.1</td>\n",
              "    </tr>\n",
              "  </tbody>\n",
              "</table>\n",
              "</div>\n",
              "    <div class=\"colab-df-buttons\">\n",
              "\n",
              "  <div class=\"colab-df-container\">\n",
              "    <button class=\"colab-df-convert\" onclick=\"convertToInteractive('df-34c8e70d-d64c-4b7f-8d4e-2728d80c6c0b')\"\n",
              "            title=\"Convert this dataframe to an interactive table.\"\n",
              "            style=\"display:none;\">\n",
              "\n",
              "  <svg xmlns=\"http://www.w3.org/2000/svg\" height=\"24px\" viewBox=\"0 -960 960 960\">\n",
              "    <path d=\"M120-120v-720h720v720H120Zm60-500h600v-160H180v160Zm220 220h160v-160H400v160Zm0 220h160v-160H400v160ZM180-400h160v-160H180v160Zm440 0h160v-160H620v160ZM180-180h160v-160H180v160Zm440 0h160v-160H620v160Z\"/>\n",
              "  </svg>\n",
              "    </button>\n",
              "\n",
              "  <style>\n",
              "    .colab-df-container {\n",
              "      display:flex;\n",
              "      gap: 12px;\n",
              "    }\n",
              "\n",
              "    .colab-df-convert {\n",
              "      background-color: #E8F0FE;\n",
              "      border: none;\n",
              "      border-radius: 50%;\n",
              "      cursor: pointer;\n",
              "      display: none;\n",
              "      fill: #1967D2;\n",
              "      height: 32px;\n",
              "      padding: 0 0 0 0;\n",
              "      width: 32px;\n",
              "    }\n",
              "\n",
              "    .colab-df-convert:hover {\n",
              "      background-color: #E2EBFA;\n",
              "      box-shadow: 0px 1px 2px rgba(60, 64, 67, 0.3), 0px 1px 3px 1px rgba(60, 64, 67, 0.15);\n",
              "      fill: #174EA6;\n",
              "    }\n",
              "\n",
              "    .colab-df-buttons div {\n",
              "      margin-bottom: 4px;\n",
              "    }\n",
              "\n",
              "    [theme=dark] .colab-df-convert {\n",
              "      background-color: #3B4455;\n",
              "      fill: #D2E3FC;\n",
              "    }\n",
              "\n",
              "    [theme=dark] .colab-df-convert:hover {\n",
              "      background-color: #434B5C;\n",
              "      box-shadow: 0px 1px 3px 1px rgba(0, 0, 0, 0.15);\n",
              "      filter: drop-shadow(0px 1px 2px rgba(0, 0, 0, 0.3));\n",
              "      fill: #FFFFFF;\n",
              "    }\n",
              "  </style>\n",
              "\n",
              "    <script>\n",
              "      const buttonEl =\n",
              "        document.querySelector('#df-34c8e70d-d64c-4b7f-8d4e-2728d80c6c0b button.colab-df-convert');\n",
              "      buttonEl.style.display =\n",
              "        google.colab.kernel.accessAllowed ? 'block' : 'none';\n",
              "\n",
              "      async function convertToInteractive(key) {\n",
              "        const element = document.querySelector('#df-34c8e70d-d64c-4b7f-8d4e-2728d80c6c0b');\n",
              "        const dataTable =\n",
              "          await google.colab.kernel.invokeFunction('convertToInteractive',\n",
              "                                                    [key], {});\n",
              "        if (!dataTable) return;\n",
              "\n",
              "        const docLinkHtml = 'Like what you see? Visit the ' +\n",
              "          '<a target=\"_blank\" href=https://colab.research.google.com/notebooks/data_table.ipynb>data table notebook</a>'\n",
              "          + ' to learn more about interactive tables.';\n",
              "        element.innerHTML = '';\n",
              "        dataTable['output_type'] = 'display_data';\n",
              "        await google.colab.output.renderOutput(dataTable, element);\n",
              "        const docLink = document.createElement('div');\n",
              "        docLink.innerHTML = docLinkHtml;\n",
              "        element.appendChild(docLink);\n",
              "      }\n",
              "    </script>\n",
              "  </div>\n",
              "\n",
              "\n",
              "  <div id=\"id_4e599e17-8b77-479b-a141-1a93bb1d37f6\">\n",
              "    <style>\n",
              "      .colab-df-generate {\n",
              "        background-color: #E8F0FE;\n",
              "        border: none;\n",
              "        border-radius: 50%;\n",
              "        cursor: pointer;\n",
              "        display: none;\n",
              "        fill: #1967D2;\n",
              "        height: 32px;\n",
              "        padding: 0 0 0 0;\n",
              "        width: 32px;\n",
              "      }\n",
              "\n",
              "      .colab-df-generate:hover {\n",
              "        background-color: #E2EBFA;\n",
              "        box-shadow: 0px 1px 2px rgba(60, 64, 67, 0.3), 0px 1px 3px 1px rgba(60, 64, 67, 0.15);\n",
              "        fill: #174EA6;\n",
              "      }\n",
              "\n",
              "      [theme=dark] .colab-df-generate {\n",
              "        background-color: #3B4455;\n",
              "        fill: #D2E3FC;\n",
              "      }\n",
              "\n",
              "      [theme=dark] .colab-df-generate:hover {\n",
              "        background-color: #434B5C;\n",
              "        box-shadow: 0px 1px 3px 1px rgba(0, 0, 0, 0.15);\n",
              "        filter: drop-shadow(0px 1px 2px rgba(0, 0, 0, 0.3));\n",
              "        fill: #FFFFFF;\n",
              "      }\n",
              "    </style>\n",
              "    <button class=\"colab-df-generate\" onclick=\"generateWithVariable('outliersy_multidimensional')\"\n",
              "            title=\"Generate code using this dataframe.\"\n",
              "            style=\"display:none;\">\n",
              "\n",
              "  <svg xmlns=\"http://www.w3.org/2000/svg\" height=\"24px\"viewBox=\"0 0 24 24\"\n",
              "       width=\"24px\">\n",
              "    <path d=\"M7,19H8.4L18.45,9,17,7.55,7,17.6ZM5,21V16.75L18.45,3.32a2,2,0,0,1,2.83,0l1.4,1.43a1.91,1.91,0,0,1,.58,1.4,1.91,1.91,0,0,1-.58,1.4L9.25,21ZM18.45,9,17,7.55Zm-12,3A5.31,5.31,0,0,0,4.9,8.1,5.31,5.31,0,0,0,1,6.5,5.31,5.31,0,0,0,4.9,4.9,5.31,5.31,0,0,0,6.5,1,5.31,5.31,0,0,0,8.1,4.9,5.31,5.31,0,0,0,12,6.5,5.46,5.46,0,0,0,6.5,12Z\"/>\n",
              "  </svg>\n",
              "    </button>\n",
              "    <script>\n",
              "      (() => {\n",
              "      const buttonEl =\n",
              "        document.querySelector('#id_4e599e17-8b77-479b-a141-1a93bb1d37f6 button.colab-df-generate');\n",
              "      buttonEl.style.display =\n",
              "        google.colab.kernel.accessAllowed ? 'block' : 'none';\n",
              "\n",
              "      buttonEl.onclick = () => {\n",
              "        google.colab.notebook.generateWithVariable('outliersy_multidimensional');\n",
              "      }\n",
              "      })();\n",
              "    </script>\n",
              "  </div>\n",
              "\n",
              "    </div>\n",
              "  </div>\n"
            ],
            "application/vnd.google.colaboratory.intrinsic+json": {
              "type": "dataframe",
              "variable_name": "outliersy_multidimensional",
              "summary": "{\n  \"name\": \"outliersy_multidimensional\",\n  \"rows\": 1,\n  \"fields\": [\n    {\n      \"column\": \"Unnamed: 0\",\n      \"properties\": {\n        \"dtype\": \"number\",\n        \"std\": null,\n        \"min\": 48,\n        \"max\": 48,\n        \"num_unique_values\": 1,\n        \"samples\": [\n          48\n        ],\n        \"semantic_type\": \"\",\n        \"description\": \"\"\n      }\n    },\n    {\n      \"column\": \"wiek_lat\",\n      \"properties\": {\n        \"dtype\": \"number\",\n        \"std\": null,\n        \"min\": 999.0,\n        \"max\": 999.0,\n        \"num_unique_values\": 1,\n        \"samples\": [\n          999.0\n        ],\n        \"semantic_type\": \"\",\n        \"description\": \"\"\n      }\n    },\n    {\n      \"column\": \"dochod_roczny_tys\",\n      \"properties\": {\n        \"dtype\": \"number\",\n        \"std\": null,\n        \"min\": 5001.0,\n        \"max\": 5001.0,\n        \"num_unique_values\": 1,\n        \"samples\": [\n          5001.0\n        ],\n        \"semantic_type\": \"\",\n        \"description\": \"\"\n      }\n    },\n    {\n      \"column\": \"suma_kredytow_tys\",\n      \"properties\": {\n        \"dtype\": \"number\",\n        \"std\": null,\n        \"min\": 10001.0,\n        \"max\": 10001.0,\n        \"num_unique_values\": 1,\n        \"samples\": [\n          10001.0\n        ],\n        \"semantic_type\": \"\",\n        \"description\": \"\"\n      }\n    },\n    {\n      \"column\": \"lata_jako_klient\",\n      \"properties\": {\n        \"dtype\": \"number\",\n        \"std\": null,\n        \"min\": 100.1,\n        \"max\": 100.1,\n        \"num_unique_values\": 1,\n        \"samples\": [\n          100.1\n        ],\n        \"semantic_type\": \"\",\n        \"description\": \"\"\n      }\n    }\n  ]\n}"
            }
          },
          "metadata": {}
        }
      ]
    },
    {
      "cell_type": "code",
      "source": [
        "klienci_df.plot(kind='scatter', x='suma_kredytow_tys', y='lata_jako_klient', alpha=0.5)"
      ],
      "metadata": {
        "colab": {
          "base_uri": "https://localhost:8080/",
          "height": 468
        },
        "id": "NyYDEO881FzF",
        "outputId": "fce9c815-6b36-4ff0-f441-3c92ec931305"
      },
      "execution_count": 30,
      "outputs": [
        {
          "output_type": "execute_result",
          "data": {
            "text/plain": [
              "<Axes: xlabel='suma_kredytow_tys', ylabel='lata_jako_klient'>"
            ]
          },
          "metadata": {},
          "execution_count": 30
        },
        {
          "output_type": "display_data",
          "data": {
            "text/plain": [
              "<Figure size 640x480 with 1 Axes>"
            ],
            "image/png": "[encoded data removed]"
          },
          "metadata": {}
        }
      ]
    },
    {
      "cell_type": "code",
      "metadata": {
        "colab": {
          "base_uri": "https://localhost:8080/",
          "height": 574
        },
        "id": "c04a1832",
        "outputId": "63ccefd9-62e6-46e4-fea9-94b0479749aa"
      },
      "source": [
        "\n",
        "plt.figure(figsize=(16, 6))\n",
        "\n",
        "for i, col in enumerate(numeric_cols):\n",
        "    plt.subplot(1, len(numeric_cols), i + 1)\n",
        "    plt.boxplot(klienci_df[col])\n",
        "    plt.title(f'Boxplot - {col}')\n",
        "    plt.ylabel(col)\n",
        "    plt.grid(True, alpha=0.3)\n",
        "\n",
        "plt.tight_layout()\n",
        "plt.show()"
      ],
      "execution_count": 32,
      "outputs": [
        {
          "output_type": "display_data",
          "data": {
            "text/plain": [
              "<Figure size 1600x600 with 4 Axes>"
            ],
            "image/png": "[encoded data removed]"
          },
          "metadata": {}
        }
      ]
    }
  ]
}